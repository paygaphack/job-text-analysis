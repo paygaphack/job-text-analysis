{
 "cells": [
  {
   "cell_type": "code",
   "execution_count": 2,
   "metadata": {
    "collapsed": false
   },
   "outputs": [
    {
     "name": "stderr",
     "output_type": "stream",
     "text": [
      "ERROR: Line magic function `%use` not found.\n"
     ]
    }
   ],
   "source": [
    "%reload_ext ishbook\n",
    "#%use pandas==0.19.2\n",
    "%use pandas==0.22.0\n",
    "import pandas as pd\n",
    "import numpy as np\n",
    "import os\n",
    "import getpass\n",
    "import pg8000\n",
    "import MySQLdb\n",
    "from contrib.fetch import sanitize_for_query\n",
    "import plus\n",
    "import datetime\n",
    "import json\n",
    "from IPython.display import display, HTML"
   ]
  },
  {
   "cell_type": "code",
   "execution_count": 46,
   "metadata": {
    "collapsed": true
   },
   "outputs": [],
   "source": [
    "# To get txt data in dataframe\n",
    "import json\n",
    "from pandas.io.json import json_normalize #package for flattening json in pandas df\n",
    "\n",
    "def txt_to_df(txt_file_loc):\n",
    "    txt =  open(txt_file_loc,\"r\").read()\n",
    "    txt = json.loads(txt)\n",
    "    df = json_normalize(txt['results'])\n",
    "    return df\n",
    "\n",
    "fulltime_df = txt_to_df(\"job_ad_fulltime_with_summary.txt\")\n",
    "parttime_df = txt_to_df(\"job_ad_parttime_with_summary.txt\")"
   ]
  },
  {
   "cell_type": "code",
   "execution_count": 47,
   "metadata": {
    "collapsed": false
   },
   "outputs": [],
   "source": [
    "fulltime_df['hours']='fulltime'\n",
    "parttime_df['hours'] = 'parttime'"
   ]
  },
  {
   "cell_type": "code",
   "execution_count": 48,
   "metadata": {
    "collapsed": false
   },
   "outputs": [],
   "source": [
    "pay_df = pd.read_csv('UK Gender Pay Gap Data - 2017 to 2018.csv')"
   ]
  },
  {
   "cell_type": "code",
   "execution_count": 49,
   "metadata": {
    "collapsed": false
   },
   "outputs": [],
   "source": [
    "df = pd.concat([fulltime_df,parttime_df])"
   ]
  },
  {
   "cell_type": "code",
   "execution_count": 50,
   "metadata": {
    "collapsed": false
   },
   "outputs": [],
   "source": [
    "import difflib\n",
    "# matching company names between pay data and job description data\n",
    "df['Matches'] = df['company'].map(lambda x: difflib.get_close_matches(x, pay_df['EmployerName']))\n",
    "match_df = df.Matches.apply(pd.Series).rename(columns={0:'EmployerName'})\n",
    "df = pd.concat([match_df['EmployerName'],df], axis=1)\n",
    "pay_desc_df = pd.merge(pay_df,df, how=\"inner\", on='EmployerName')"
   ]
  },
  {
   "cell_type": "code",
   "execution_count": 92,
   "metadata": {
    "collapsed": false
   },
   "outputs": [],
   "source": [
    "searchfor = ['equal', 'diversity', 'equality of opportunit']\n",
    "pay_desc_df['diversity statement'] = pay_desc_df['jobsummary'].str.contains('|'.join(searchfor))"
   ]
  },
  {
   "cell_type": "code",
   "execution_count": 97,
   "metadata": {
    "collapsed": false
   },
   "outputs": [],
   "source": [
    "import re\n",
    "\n",
    "def cleanhtml(raw_html):\n",
    "  cleanr = re.compile('<.*?>')\n",
    "  cleantext = re.sub(cleanr, '', raw_html)\n",
    "  return cleantext\n",
    "\n",
    "pay_desc_df[\"jobsummary_clean\"] = pay_desc_df.jobsummary.apply(lambda x: cleanhtml(x))"
   ]
  },
  {
   "cell_type": "code",
   "execution_count": 99,
   "metadata": {
    "collapsed": false
   },
   "outputs": [],
   "source": [
    "diversity_job_summary = pay_desc_df[pay_desc_df['diversity statement']]['jobsummary_clean']\n",
    "diversity_job_summary.to_csv('diversity_job_summary.csv', header=True, index=False, encoding='utf-8')\n",
    "\n",
    "#non diverse job summaries (visually inspect)\n",
    "\n",
    "nondiversity_job_summary = pay_desc_df[~pay_desc_df['diversity statement']]['jobsummary_clean']\n",
    "nondiversity_job_summary.to_csv('nondiversity_job_summary.csv', header=True, index=False, encoding='utf-8')\n"
   ]
  },
  {
   "cell_type": "code",
   "execution_count": null,
   "metadata": {
    "collapsed": true
   },
   "outputs": [],
   "source": []
  }
 ],
 "metadata": {
  "kernelspec": {
   "display_name": "Python 2",
   "language": "python",
   "name": "python2"
  },
  "widgets": {
   "state": {},
   "version": "1.1.2"
  }
 },
 "nbformat": 4,
 "nbformat_minor": 2
}
