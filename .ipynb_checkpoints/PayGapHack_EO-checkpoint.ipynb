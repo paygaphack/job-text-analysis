{
 "cells": [
  {
   "cell_type": "code",
   "execution_count": 151,
   "metadata": {
    "collapsed": false,
    "deletable": true,
    "editable": true
   },
   "outputs": [
    {
     "name": "stderr",
     "output_type": "stream",
     "text": [
      "ERROR: Line magic function `%use` not found.\n"
     ]
    },
    {
     "data": {
      "text/html": [
       "<script>requirejs.config({paths: { 'plotly': ['https://cdn.plot.ly/plotly-latest.min']},});if(!window.Plotly) {{require(['plotly'],function(plotly) {window.Plotly=plotly;});}}</script>"
      ],
      "text/plain": [
       "<IPython.core.display.HTML object>"
      ]
     },
     "metadata": {},
     "output_type": "display_data"
    }
   ],
   "source": [
    "%reload_ext ishbook\n",
    "#%use pandas==0.19.2\n",
    "%use pandas==0.22.0\n",
    "import pandas as pd\n",
    "import numpy as np\n",
    "import datetime\n",
    "import json\n",
    "from IPython.display import display, HTML\n",
    "import plotly\n",
    "plotly.offline.init_notebook_mode(connected=True)\n",
    "import plotly.graph_objs as go\n",
    "from plotly.offline import init_notebook_mode, iplot"
   ]
  },
  {
   "cell_type": "code",
   "execution_count": 68,
   "metadata": {
    "collapsed": false,
    "deletable": true,
    "editable": true
   },
   "outputs": [],
   "source": [
    "import re\n",
    "\n",
    "def cleanhtml(raw_html):\n",
    "  cleanr = re.compile('<.*?>')\n",
    "  cleantext = re.sub(cleanr, '', raw_html)\n",
    "  return cleantext\n",
    "\n"
   ]
  },
  {
   "cell_type": "code",
   "execution_count": 152,
   "metadata": {
    "collapsed": true,
    "deletable": true,
    "editable": true
   },
   "outputs": [],
   "source": [
    "# To get txt data in dataframe\n",
    "import json\n",
    "from pandas.io.json import json_normalize #package for flattening json in pandas df\n",
    "\n",
    "def txt_to_df(txt_file_loc):\n",
    "    txt =  open(txt_file_loc,\"r\").read()\n",
    "    txt = json.loads(txt)\n",
    "    df = json_normalize(txt['results'])\n",
    "    return df\n",
    "\n",
    "fulltime_df = txt_to_df(\"job_ad_fulltime_with_summary.txt\")\n",
    "parttime_df = txt_to_df(\"job_ad_parttime_with_summary.txt\")"
   ]
  },
  {
   "cell_type": "code",
   "execution_count": 153,
   "metadata": {
    "collapsed": false,
    "deletable": true,
    "editable": true
   },
   "outputs": [],
   "source": [
    "fulltime_df['hours'] = 'fulltime'\n",
    "parttime_df['hours'] = 'parttime'"
   ]
  },
  {
   "cell_type": "code",
   "execution_count": 154,
   "metadata": {
    "collapsed": false,
    "deletable": true,
    "editable": true
   },
   "outputs": [],
   "source": [
    "pay_df = pd.read_csv('UK Gender Pay Gap Data - 2017 to 2018.csv')"
   ]
  },
  {
   "cell_type": "code",
   "execution_count": 155,
   "metadata": {
    "collapsed": false,
    "deletable": true,
    "editable": true
   },
   "outputs": [],
   "source": [
    "df = pd.concat([fulltime_df,parttime_df])"
   ]
  },
  {
   "cell_type": "code",
   "execution_count": 156,
   "metadata": {
    "collapsed": true
   },
   "outputs": [],
   "source": [
    "# name matching as diflib + manual check\n",
    "name_match = pd.read_csv('Indeed to GPG Company Name - indeed_companies_match.csv')"
   ]
  },
  {
   "cell_type": "code",
   "execution_count": 159,
   "metadata": {
    "collapsed": false
   },
   "outputs": [],
   "source": [
    "df['company'] = df['company'].str.lower()\n",
    "df = pd.merge(df,name_match, how=\"left\", left_on = 'company', right_on='Indeed Company')"
   ]
  },
  {
   "cell_type": "code",
   "execution_count": 166,
   "metadata": {
    "collapsed": false
   },
   "outputs": [],
   "source": [
    "df.drop(['Verifier'],axis=1, inplace=True)"
   ]
  },
  {
   "cell_type": "code",
   "execution_count": 167,
   "metadata": {
    "collapsed": false
   },
   "outputs": [],
   "source": [
    "pay_df['EmployerName'] = pay_df['EmployerName'].str.lower()"
   ]
  },
  {
   "cell_type": "code",
   "execution_count": 173,
   "metadata": {
    "collapsed": true
   },
   "outputs": [],
   "source": [
    "pay_desc_df = pd.merge(pay_df,df, how=\"inner\", left_on='EmployerName', right_on='Human-Verified GPG Match')"
   ]
  },
  {
   "cell_type": "code",
   "execution_count": 174,
   "metadata": {
    "collapsed": true
   },
   "outputs": [],
   "source": [
    "pay_desc_df[\"jobsummary\"] = pay_desc_df.jobsummary.apply(lambda x: cleanhtml(x))"
   ]
  },
  {
   "cell_type": "code",
   "execution_count": 175,
   "metadata": {
    "collapsed": false
   },
   "outputs": [],
   "source": [
    "pay_desc_df.to_csv('matched_company_pay_job_desc.csv', header=True, index=False, encoding='utf-8')"
   ]
  },
  {
   "cell_type": "code",
   "execution_count": 66,
   "metadata": {
    "collapsed": false,
    "deletable": true,
    "editable": true
   },
   "outputs": [],
   "source": [
    "# import difflib\n",
    "# # matching company names between pay data and job description data\n",
    "# df['Matches'] = df['company_clean'].map(lambda x: difflib.get_close_matches(x, pay_df['EmployerCleanName']))\n",
    "# match_df = df.Matches.apply(pd.Series).rename(columns={0:'EmployerCleanName'})\n",
    "# df = pd.concat([match_df['EmployerCleanName'],df], axis=1)\n",
    "# pay_desc_df = pd.merge(pay_df,df, how=\"inner\", on='EmployerCleanName')"
   ]
  },
  {
   "cell_type": "code",
   "execution_count": 233,
   "metadata": {
    "collapsed": false,
    "deletable": true,
    "editable": true
   },
   "outputs": [],
   "source": [
    "searchfor = ['equal opportunit', 'equality', 'inclusion', 'gender', ' race', 'sexual', 'religio', 'ethnic', 'discriminat']\n",
    "pay_desc_df['diversity statement'] = pay_desc_df['jobsummary'].str.contains('|'.join(searchfor), case=False)"
   ]
  },
  {
   "cell_type": "code",
   "execution_count": 234,
   "metadata": {
    "collapsed": false,
    "deletable": true,
    "editable": true
   },
   "outputs": [],
   "source": [
    "diversity_job_summary = pay_desc_df[pay_desc_df['diversity statement']]['jobsummary']\n",
    "diversity_job_summary.to_csv('diversity_job_summary.csv', header=True, index=False, encoding='utf-8')\n",
    "\n",
    "#non diverse job summaries (visually inspect)\n",
    "\n",
    "nondiversity_job_summary = pay_desc_df[~pay_desc_df['diversity statement']]['jobsummary']\n",
    "nondiversity_job_summary.to_csv('nondiversity_job_summary.csv', header=True, index=False, encoding='utf-8')\n"
   ]
  },
  {
   "cell_type": "code",
   "execution_count": 235,
   "metadata": {
    "collapsed": true
   },
   "outputs": [],
   "source": [
    "value_types = ['DiffMeanHourlyPercent', 'DiffMedianHourlyPercent', 'DiffMeanBonusPercent','DiffMedianBonusPercent','MaleBonusPercent','FemaleBonusPercent']"
   ]
  },
  {
   "cell_type": "code",
   "execution_count": 236,
   "metadata": {
    "collapsed": false
   },
   "outputs": [],
   "source": [
    "mean_df = pay_desc_df[['diversity statement','DiffMeanHourlyPercent', 'DiffMedianHourlyPercent', 'DiffMeanBonusPercent','DiffMedianBonusPercent','MaleBonusPercent','FemaleBonusPercent']].groupby('diversity statement').mean()"
   ]
  },
  {
   "cell_type": "code",
   "execution_count": 237,
   "metadata": {
    "collapsed": true
   },
   "outputs": [],
   "source": [
    "mean_true = mean_df[mean_df.index==True].values.tolist()[0]\n",
    "mean_false = mean_df[mean_df.index==False].values.tolist()[0]"
   ]
  },
  {
   "cell_type": "code",
   "execution_count": 238,
   "metadata": {
    "collapsed": false
   },
   "outputs": [],
   "source": [
    "error_df = pay_desc_df[['diversity statement','DiffMeanHourlyPercent', 'DiffMedianHourlyPercent', 'DiffMeanBonusPercent','DiffMedianBonusPercent','MaleBonusPercent','FemaleBonusPercent','EmployerSize']].groupby('diversity statement').sem()"
   ]
  },
  {
   "cell_type": "code",
   "execution_count": 246,
   "metadata": {
    "collapsed": false
   },
   "outputs": [],
   "source": [
    "error_range_true = error_df[std_df.index==True].values.tolist()[0]\n",
    "error_range_false = error_df[std_df.index==False].values.tolist()[0]"
   ]
  },
  {
   "cell_type": "code",
   "execution_count": 247,
   "metadata": {
    "collapsed": false
   },
   "outputs": [
    {
     "data": {
      "text/html": [
       "<div id=\"f2879c27-4d97-4f8f-9876-1ceadd4ac94f\" style=\"height: 525px; width: 100%;\" class=\"plotly-graph-div\"></div><script type=\"text/javascript\">require([\"plotly\"], function(Plotly) { window.PLOTLYENV=window.PLOTLYENV || {};window.PLOTLYENV.BASE_URL=\"https://plot.ly\";Plotly.newPlot(\"f2879c27-4d97-4f8f-9876-1ceadd4ac94f\", [{\"y\": [13.815753424657528, 10.936301369863012, 20.373972602739734, 18.060273972602733, 34.3732876712329, 33.76301369863016], \"x\": [\"DiffMeanHourlyPercent\", \"DiffMedianHourlyPercent\", \"DiffMeanBonusPercent\", \"DiffMedianBonusPercent\", \"MaleBonusPercent\", \"FemaleBonusPercent\"], \"type\": \"bar\", \"error_y\": {\"visible\": true, \"array\": [5.573962772305893, 0.9841289861906889, 2.470610334912018, 0.9466555405522025, null, 3.1737422071206383, 3.1257413731594714], \"type\": \"data\"}, \"name\": \"Includes equal opportunity statement in job description\"}, {\"y\": [19.187526427061286, 11.187103594080329, 31.723890063424932, 24.846511627906967, 30.82103594080328, 28.072938689217846], \"x\": [\"DiffMeanHourlyPercent\", \"DiffMedianHourlyPercent\", \"DiffMeanBonusPercent\", \"DiffMedianBonusPercent\", \"MaleBonusPercent\", \"FemaleBonusPercent\"], \"type\": \"bar\", \"error_y\": {\"visible\": true, \"array\": [1.9793385652944249, 0.4357161148477927, 3.0515246688976574, 0.42064416207062033, null, 1.103143583683954, 1.0728507163429952], \"type\": \"data\"}, \"name\": \"No equal opportunity statement in job description\"}], {\"barmode\": \"group\", \"yaxis\": {\"range\": [0, 50]}}, {\"linkText\": \"Export to plot.ly\", \"showLink\": true})});</script>"
      ],
      "text/plain": [
       "<IPython.core.display.HTML object>"
      ]
     },
     "metadata": {},
     "output_type": "display_data"
    }
   ],
   "source": [
    "has_diversity_statement = go.Bar(\n",
    "    x=value_types,\n",
    "    y=mean_true,\n",
    "    name='Includes equal opportunity statement in job description',\n",
    "    error_y=dict(\n",
    "        type='data',\n",
    "        array=error_range_true,\n",
    "        visible=True\n",
    "    )\n",
    ")\n",
    "no_diversity_statement = go.Bar(\n",
    "    x=value_types,\n",
    "    y=mean_false,\n",
    "    name='No equal opportunity statement in job description',\n",
    "    error_y=dict(\n",
    "        type='data',\n",
    "        array=error_range_false,\n",
    "        visible=True\n",
    "    )\n",
    ")\n",
    "data = [has_diversity_statement, no_diversity_statement]\n",
    "layout = go.Layout(\n",
    "    barmode='group',\n",
    "    yaxis=dict(\n",
    "        range=[0, 50]\n",
    "    )\n",
    ")\n",
    "fig = go.Figure(data=data, layout=layout)\n",
    "iplot(fig, filename='error-bar-bar')\n",
    "# mean +/- sem"
   ]
  },
  {
   "cell_type": "code",
   "execution_count": 248,
   "metadata": {
    "collapsed": false
   },
   "outputs": [
    {
     "data": {
      "text/plain": [
       "Ttest_indResult(statistic=-4.5731023862281317, pvalue=5.3556782968085737e-06)"
      ]
     },
     "execution_count": 248,
     "metadata": {},
     "output_type": "execute_result"
    }
   ],
   "source": [
    "from scipy.stats import ttest_ind\n",
    "\n",
    "include = pay_desc_df[pay_desc_df['diversity statement']==True]\n",
    "not_included = pay_desc_df[pay_desc_df['diversity statement']==False]\n",
    "\n",
    "ttest_ind(include['DiffMeanHourlyPercent'], not_included['DiffMeanHourlyPercent'])\n"
   ]
  },
  {
   "cell_type": "code",
   "execution_count": 249,
   "metadata": {
    "collapsed": false
   },
   "outputs": [
    {
     "name": "stdout",
     "output_type": "stream",
     "text": [
      "DiffMeanHourlyPercent\n",
      "Ttest_indResult(statistic=-4.5731023862281317, pvalue=5.3556782968085737e-06)\n",
      "DiffMedianHourlyPercent\n",
      "Ttest_indResult(statistic=-0.22124946556294675, pvalue=0.82493963456704278)\n",
      "DiffMeanBonusPercent\n",
      "Ttest_indResult(statistic=-2.0661610874610803, pvalue=0.039049100820335164)\n",
      "DiffMedianBonusPercent\n",
      "Ttest_indResult(statistic=-0.86662212787893211, pvalue=0.38633980844687754)\n",
      "MaleBonusPercent\n",
      "Ttest_indResult(statistic=1.1864595403268923, pvalue=0.23569940823598706)\n",
      "FemaleBonusPercent\n",
      "Ttest_indResult(statistic=1.8521710293964087, pvalue=0.064271494360193887)\n"
     ]
    }
   ],
   "source": [
    "for metric in value_types:\n",
    "    print metric\n",
    "    print ttest_ind(include[metric], not_included[metric])\n"
   ]
  },
  {
   "cell_type": "code",
   "execution_count": 253,
   "metadata": {
    "collapsed": false
   },
   "outputs": [
    {
     "data": {
      "text/html": [
       "<div id=\"3d94d5a7-865f-4113-85e4-de6e8c9883dc\" style=\"height: 525px; width: 100%;\" class=\"plotly-graph-div\"></div><script type=\"text/javascript\">require([\"plotly\"], function(Plotly) { window.PLOTLYENV=window.PLOTLYENV || {};window.PLOTLYENV.BASE_URL=\"https://plot.ly\";Plotly.newPlot(\"3d94d5a7-865f-4113-85e4-de6e8c9883dc\", [{\"y\": [13.815753424657528], \"x\": [\"DiffMeanHourlyPercent\"], \"type\": \"bar\", \"error_y\": {\"visible\": true, \"array\": [5.573962772305893], \"type\": \"data\"}, \"name\": \"Job description includes equal opportunity statement\"}, {\"y\": [19.187526427061286], \"x\": [\"DiffMeanHourlyPercent\"], \"type\": \"bar\", \"error_y\": {\"visible\": true, \"array\": [1.9793385652944249], \"type\": \"data\"}, \"name\": \"Job description has no equal opportunity statement\"}], {\"barmode\": \"group\", \"legend\": {\"orientation\": \"h\"}, \"yaxis\": {\"title\": \"Pay Gap (%)\"}}, {\"linkText\": \"Export to plot.ly\", \"showLink\": true})});</script>"
      ],
      "text/plain": [
       "<IPython.core.display.HTML object>"
      ]
     },
     "metadata": {},
     "output_type": "display_data"
    }
   ],
   "source": [
    "has_diversity_statement = go.Bar(\n",
    "    x=[value_types[0]],\n",
    "    y=[mean_true[0]],\n",
    "    name='Job description includes equal opportunity statement',\n",
    "    error_y=dict(\n",
    "        type='data',\n",
    "        array=[error_range_true[0]],\n",
    "        visible=True\n",
    "    )\n",
    ")\n",
    "no_diversity_statement = go.Bar(\n",
    "    x=[value_types[0]],\n",
    "    y=[mean_false[0]],\n",
    "    name='Job description has no equal opportunity statement',\n",
    "    error_y=dict(\n",
    "        type='data',\n",
    "        array=[error_range_false[0]],\n",
    "        visible=True\n",
    "    )\n",
    ")\n",
    "data = [has_diversity_statement, no_diversity_statement]\n",
    "layout = go.Layout(\n",
    "    yaxis=dict(\n",
    "        title='Pay Gap (%)'),\n",
    "    barmode='group',\n",
    "    legend=dict(orientation=\"h\")\n",
    ")\n",
    "fig = go.Figure(data=data, layout=layout)\n",
    "iplot(fig, filename='error-bar-bar')\n",
    "# mean +/- sem"
   ]
  },
  {
   "cell_type": "markdown",
   "metadata": {},
   "source": [
    "Average Pay Gap\n",
    " \n",
    "A = the mean hourly rate of pay for all full pay male employees\n",
    "B = the mean hourly rate of pay for all full pay female employees\n",
    " \n",
    "The average is then calculated as:\n",
    " \n",
    "(A-B)/A *100"
   ]
  },
  {
   "cell_type": "code",
   "execution_count": null,
   "metadata": {
    "collapsed": true
   },
   "outputs": [],
   "source": []
  }
 ],
 "metadata": {
  "kernelspec": {
   "display_name": "Python 2",
   "language": "python",
   "name": "python2"
  },
  "language_info": {
   "codemirror_mode": {
    "name": "ipython",
    "version": 2
   },
   "file_extension": ".py",
   "mimetype": "text/x-python",
   "name": "python",
   "nbconvert_exporter": "python",
   "pygments_lexer": "ipython2",
   "version": "2.7.11"
  },
  "widgets": {
   "state": {},
   "version": "1.1.2"
  }
 },
 "nbformat": 4,
 "nbformat_minor": 2
}
