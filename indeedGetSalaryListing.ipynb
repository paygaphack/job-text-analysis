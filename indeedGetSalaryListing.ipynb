{
 "cells": [
  {
   "cell_type": "markdown",
   "metadata": {},
   "source": [
    "# Get Salary Information from the Indeed Dataset\n",
    "\n",
    "I want to analyse whether companies that advertise jobs with a salary have a smaller gender pay gap than companies that don't list a salary (for example by saying that it is \"negotiable\" or \"dependent on experience\").\n",
    "\n",
    "First we need to get the salary listing information. This is not prodiced in the Indeed dataset but is contained on their website. So we need to do some webscraping.\n",
    "\n",
    "## Import the Indeed Data"
   ]
  },
  {
   "cell_type": "code",
   "execution_count": null,
   "metadata": {
    "collapsed": true
   },
   "outputs": [],
   "source": [
    "import requests\n",
    "from bs4 import BeautifulSoup\n",
    "import time"
   ]
  },
  {
   "cell_type": "code",
   "execution_count": null,
   "metadata": {
    "collapsed": true
   },
   "outputs": [],
   "source": [
    "# To get txt data in dataframe\n",
    "import json\n",
    "from pandas.io.json import json_normalize #package for flattening json in pandas df\n",
    "\n",
    "def txt_to_df(txt_file_loc):\n",
    "    txt =  open(txt_file_loc,\"r\").read()\n",
    "    txt = json.loads(txt)\n",
    "    df = json_normalize(txt['results'])\n",
    "    return df\n",
    "\n",
    "fulltime_df = txt_to_df(\"indeed_job_search_api/job_ad_fulltime_with_summary.txt\")\n",
    "partime_df = txt_to_df(\"indeed_job_search_api/job_ad_parttime_with_summary.txt\")"
   ]
  },
  {
   "cell_type": "markdown",
   "metadata": {},
   "source": [
    "## Look up URLs of job listings (later we'll extract the salary information)"
   ]
  },
  {
   "cell_type": "code",
   "execution_count": null,
   "metadata": {},
   "outputs": [],
   "source": [
    "def getSoup(df)\n",
    "    salarylisting = {}\n",
    "    for i, j in df.iterrows():\n",
    "        print(i, j.url)\n",
    "        jobPage = requests.get(j.url)\n",
    "        if jobPage.status_code == 200:\n",
    "            soup = BeautifulSoup(jobPage.text, 'lxml')\n",
    "            salarylisting[i] = soup\n",
    "        else:\n",
    "            print(\"Eek! status_code=\", jobPage.status_code, \" for url\", j.url)\n",
    "        time.sleep(1)\n",
    "    return salarylisting\n",
    "        \n",
    "fullSoup = getSoup(fulltime_df)\n",
    "partSoup = getSoup(parttime_df)"
   ]
  },
  {
   "cell_type": "markdown",
   "metadata": {},
   "source": [
    "## Filter for salary information"
   ]
  },
  {
   "cell_type": "code",
   "execution_count": null,
   "metadata": {},
   "outputs": [],
   "source": [
    "def stripSoupForSalary(listing)\n",
    "    selectSalaryListing = {}\n",
    "    for i, soup in listing.items():\n",
    "\n",
    "        salaryInfo = soup.findAll(\"span\", {\"class\": \"no-wrap\"})\n",
    "        if len(salaryInfo) == 1:\n",
    "            selectSalaryListing[i] = salaryInfo[0].text.strip()\n",
    "    return selectSalaryListing\n",
    "\n",
    "fullSalaryListing = stripSoupForSalary(fullSoup)\n",
    "partSalaryListing = stripSoupForSalary(partSoup)"
   ]
  },
  {
   "cell_type": "markdown",
   "metadata": {},
   "source": [
    "## Save to file"
   ]
  },
  {
   "cell_type": "code",
   "execution_count": null,
   "metadata": {},
   "outputs": [],
   "source": [
    "with open('selectSalaryListingFullTime.json', 'w') as fp:\n",
    "    json.dump(fullSalaryListing, fp)\n",
    "    \n",
    "with open('selectSalaryListingPartTime.json', 'w') as fp:\n",
    "    json.dump(partSalaryListing, fp)"
   ]
  },
  {
   "cell_type": "code",
   "execution_count": null,
   "metadata": {
    "collapsed": true
   },
   "outputs": [],
   "source": []
  }
 ],
 "metadata": {
  "kernelspec": {
   "display_name": "Python 3",
   "language": "python",
   "name": "python3"
  },
  "language_info": {
   "codemirror_mode": {
    "name": "ipython",
    "version": 3
   },
   "file_extension": ".py",
   "mimetype": "text/x-python",
   "name": "python",
   "nbconvert_exporter": "python",
   "pygments_lexer": "ipython3",
   "version": "3.6.3"
  }
 },
 "nbformat": 4,
 "nbformat_minor": 2
}
